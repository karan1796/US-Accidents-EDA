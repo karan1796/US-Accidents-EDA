{
 "cells": [
  {
   "cell_type": "markdown",
   "id": "1bae9ea1",
   "metadata": {},
   "source": [
    "# US Accidents Exploratory Data Analysis"
   ]
  },
  {
   "cell_type": "code",
   "execution_count": 3,
   "id": "2f20e92e",
   "metadata": {},
   "outputs": [
    {
     "name": "stdout",
     "output_type": "stream",
     "text": [
      "Note: you may need to restart the kernel to use updated packages.\n"
     ]
    },
    {
     "name": "stderr",
     "output_type": "stream",
     "text": [
      "\n",
      "Usage:   \n",
      "  C:\\python\\python3.9\\python.exe -m pip install [options] <requirement specifier> [package-index-options] ...\n",
      "  C:\\python\\python3.9\\python.exe -m pip install [options] -r <requirements file> [package-index-options] ...\n",
      "  C:\\python\\python3.9\\python.exe -m pip install [options] [-e] <vcs project url> ...\n",
      "  C:\\python\\python3.9\\python.exe -m pip install [options] [-e] <local project path> ...\n",
      "  C:\\python\\python3.9\\python.exe -m pip install [options] <archive url/path> ...\n",
      "\n",
      "no such option: --quietly\n"
     ]
    }
   ],
   "source": [
    "pip install matplotlib --user --quietly\n"
   ]
  },
  {
   "cell_type": "code",
   "execution_count": 4,
   "id": "90277734",
   "metadata": {},
   "outputs": [
    {
     "name": "stdout",
     "output_type": "stream",
     "text": [
      "Requirement already satisfied: pip in c:\\python\\python3.9\\lib\\site-packages (23.0)\n",
      "Note: you may need to restart the kernel to use updated packages.\n"
     ]
    },
    {
     "name": "stderr",
     "output_type": "stream",
     "text": [
      "WARNING: Ignoring invalid distribution -atplotlib (c:\\python\\python3.9\\lib\\site-packages)\n",
      "WARNING: Ignoring invalid distribution -atplotlib (c:\\python\\python3.9\\lib\\site-packages)\n",
      "WARNING: Ignoring invalid distribution -atplotlib (c:\\python\\python3.9\\lib\\site-packages)\n",
      "WARNING: Ignoring invalid distribution -atplotlib (c:\\python\\python3.9\\lib\\site-packages)\n",
      "WARNING: Ignoring invalid distribution -atplotlib (c:\\python\\python3.9\\lib\\site-packages)\n",
      "WARNING: Ignoring invalid distribution -atplotlib (c:\\python\\python3.9\\lib\\site-packages)\n"
     ]
    }
   ],
   "source": [
    "pip install --upgrade pip"
   ]
  },
  {
   "cell_type": "raw",
   "id": "9cc00693",
   "metadata": {},
   "source": [
    "# Data preparing And Cleaning\n",
    "\n",
    ". Load the file using Pandas\n",
    ". Look at some information about the data & the columns\n",
    ". Fix any missing or incoorect values "
   ]
  },
  {
   "cell_type": "code",
   "execution_count": 5,
   "id": "4c7ea811",
   "metadata": {},
   "outputs": [],
   "source": [
    "import pandas as pd \n",
    "import numpy as np\n",
    "import matplotlib.pyplot as plt\n",
    "import seaborn as sns\n",
    "import plotly.express as px\n",
    "from plotly.subplots import make_subplots\n",
    "from datetime import datetime\n"
   ]
  },
  {
   "cell_type": "code",
   "execution_count": 66,
   "id": "e2c90d19",
   "metadata": {},
   "outputs": [],
   "source": [
    "accidents_df = pd.read_csv(\"C:/datasets/US_Accidents_Dec21_updated.csv\")"
   ]
  },
  {
   "cell_type": "code",
   "execution_count": 7,
   "id": "00c4e5e7",
   "metadata": {},
   "outputs": [
    {
     "data": {
      "text/html": [
       "<div>\n",
       "<style scoped>\n",
       "    .dataframe tbody tr th:only-of-type {\n",
       "        vertical-align: middle;\n",
       "    }\n",
       "\n",
       "    .dataframe tbody tr th {\n",
       "        vertical-align: top;\n",
       "    }\n",
       "\n",
       "    .dataframe thead th {\n",
       "        text-align: right;\n",
       "    }\n",
       "</style>\n",
       "<table border=\"1\" class=\"dataframe\">\n",
       "  <thead>\n",
       "    <tr style=\"text-align: right;\">\n",
       "      <th></th>\n",
       "      <th>ID</th>\n",
       "      <th>Severity</th>\n",
       "      <th>Start_Time</th>\n",
       "      <th>End_Time</th>\n",
       "      <th>Start_Lat</th>\n",
       "      <th>Start_Lng</th>\n",
       "      <th>End_Lat</th>\n",
       "      <th>End_Lng</th>\n",
       "      <th>Distance(mi)</th>\n",
       "      <th>Description</th>\n",
       "      <th>...</th>\n",
       "      <th>Roundabout</th>\n",
       "      <th>Station</th>\n",
       "      <th>Stop</th>\n",
       "      <th>Traffic_Calming</th>\n",
       "      <th>Traffic_Signal</th>\n",
       "      <th>Turning_Loop</th>\n",
       "      <th>Sunrise_Sunset</th>\n",
       "      <th>Civil_Twilight</th>\n",
       "      <th>Nautical_Twilight</th>\n",
       "      <th>Astronomical_Twilight</th>\n",
       "    </tr>\n",
       "  </thead>\n",
       "  <tbody>\n",
       "    <tr>\n",
       "      <th>0</th>\n",
       "      <td>A-1</td>\n",
       "      <td>3</td>\n",
       "      <td>2016-02-08 00:37:08</td>\n",
       "      <td>2016-02-08 06:37:08</td>\n",
       "      <td>40.108910</td>\n",
       "      <td>-83.092860</td>\n",
       "      <td>40.112060</td>\n",
       "      <td>-83.031870</td>\n",
       "      <td>3.230</td>\n",
       "      <td>Between Sawmill Rd/Exit 20 and OH-315/Olentang...</td>\n",
       "      <td>...</td>\n",
       "      <td>False</td>\n",
       "      <td>False</td>\n",
       "      <td>False</td>\n",
       "      <td>False</td>\n",
       "      <td>False</td>\n",
       "      <td>False</td>\n",
       "      <td>Night</td>\n",
       "      <td>Night</td>\n",
       "      <td>Night</td>\n",
       "      <td>Night</td>\n",
       "    </tr>\n",
       "    <tr>\n",
       "      <th>1</th>\n",
       "      <td>A-2</td>\n",
       "      <td>2</td>\n",
       "      <td>2016-02-08 05:56:20</td>\n",
       "      <td>2016-02-08 11:56:20</td>\n",
       "      <td>39.865420</td>\n",
       "      <td>-84.062800</td>\n",
       "      <td>39.865010</td>\n",
       "      <td>-84.048730</td>\n",
       "      <td>0.747</td>\n",
       "      <td>At OH-4/OH-235/Exit 41 - Accident.</td>\n",
       "      <td>...</td>\n",
       "      <td>False</td>\n",
       "      <td>False</td>\n",
       "      <td>False</td>\n",
       "      <td>False</td>\n",
       "      <td>False</td>\n",
       "      <td>False</td>\n",
       "      <td>Night</td>\n",
       "      <td>Night</td>\n",
       "      <td>Night</td>\n",
       "      <td>Night</td>\n",
       "    </tr>\n",
       "    <tr>\n",
       "      <th>2</th>\n",
       "      <td>A-3</td>\n",
       "      <td>2</td>\n",
       "      <td>2016-02-08 06:15:39</td>\n",
       "      <td>2016-02-08 12:15:39</td>\n",
       "      <td>39.102660</td>\n",
       "      <td>-84.524680</td>\n",
       "      <td>39.102090</td>\n",
       "      <td>-84.523960</td>\n",
       "      <td>0.055</td>\n",
       "      <td>At I-71/US-50/Exit 1 - Accident.</td>\n",
       "      <td>...</td>\n",
       "      <td>False</td>\n",
       "      <td>False</td>\n",
       "      <td>False</td>\n",
       "      <td>False</td>\n",
       "      <td>False</td>\n",
       "      <td>False</td>\n",
       "      <td>Night</td>\n",
       "      <td>Night</td>\n",
       "      <td>Night</td>\n",
       "      <td>Day</td>\n",
       "    </tr>\n",
       "    <tr>\n",
       "      <th>3</th>\n",
       "      <td>A-4</td>\n",
       "      <td>2</td>\n",
       "      <td>2016-02-08 06:51:45</td>\n",
       "      <td>2016-02-08 12:51:45</td>\n",
       "      <td>41.062130</td>\n",
       "      <td>-81.537840</td>\n",
       "      <td>41.062170</td>\n",
       "      <td>-81.535470</td>\n",
       "      <td>0.123</td>\n",
       "      <td>At Dart Ave/Exit 21 - Accident.</td>\n",
       "      <td>...</td>\n",
       "      <td>False</td>\n",
       "      <td>False</td>\n",
       "      <td>False</td>\n",
       "      <td>False</td>\n",
       "      <td>False</td>\n",
       "      <td>False</td>\n",
       "      <td>Night</td>\n",
       "      <td>Night</td>\n",
       "      <td>Day</td>\n",
       "      <td>Day</td>\n",
       "    </tr>\n",
       "    <tr>\n",
       "      <th>4</th>\n",
       "      <td>A-5</td>\n",
       "      <td>3</td>\n",
       "      <td>2016-02-08 07:53:43</td>\n",
       "      <td>2016-02-08 13:53:43</td>\n",
       "      <td>39.172393</td>\n",
       "      <td>-84.492792</td>\n",
       "      <td>39.170476</td>\n",
       "      <td>-84.501798</td>\n",
       "      <td>0.500</td>\n",
       "      <td>At Mitchell Ave/Exit 6 - Accident.</td>\n",
       "      <td>...</td>\n",
       "      <td>False</td>\n",
       "      <td>False</td>\n",
       "      <td>False</td>\n",
       "      <td>False</td>\n",
       "      <td>False</td>\n",
       "      <td>False</td>\n",
       "      <td>Day</td>\n",
       "      <td>Day</td>\n",
       "      <td>Day</td>\n",
       "      <td>Day</td>\n",
       "    </tr>\n",
       "  </tbody>\n",
       "</table>\n",
       "<p>5 rows × 47 columns</p>\n",
       "</div>"
      ],
      "text/plain": [
       "    ID  Severity           Start_Time             End_Time  Start_Lat  \\\n",
       "0  A-1         3  2016-02-08 00:37:08  2016-02-08 06:37:08  40.108910   \n",
       "1  A-2         2  2016-02-08 05:56:20  2016-02-08 11:56:20  39.865420   \n",
       "2  A-3         2  2016-02-08 06:15:39  2016-02-08 12:15:39  39.102660   \n",
       "3  A-4         2  2016-02-08 06:51:45  2016-02-08 12:51:45  41.062130   \n",
       "4  A-5         3  2016-02-08 07:53:43  2016-02-08 13:53:43  39.172393   \n",
       "\n",
       "   Start_Lng    End_Lat    End_Lng  Distance(mi)  \\\n",
       "0 -83.092860  40.112060 -83.031870         3.230   \n",
       "1 -84.062800  39.865010 -84.048730         0.747   \n",
       "2 -84.524680  39.102090 -84.523960         0.055   \n",
       "3 -81.537840  41.062170 -81.535470         0.123   \n",
       "4 -84.492792  39.170476 -84.501798         0.500   \n",
       "\n",
       "                                         Description  ...  Roundabout Station  \\\n",
       "0  Between Sawmill Rd/Exit 20 and OH-315/Olentang...  ...       False   False   \n",
       "1                 At OH-4/OH-235/Exit 41 - Accident.  ...       False   False   \n",
       "2                   At I-71/US-50/Exit 1 - Accident.  ...       False   False   \n",
       "3                    At Dart Ave/Exit 21 - Accident.  ...       False   False   \n",
       "4                 At Mitchell Ave/Exit 6 - Accident.  ...       False   False   \n",
       "\n",
       "    Stop Traffic_Calming Traffic_Signal Turning_Loop Sunrise_Sunset  \\\n",
       "0  False           False          False        False          Night   \n",
       "1  False           False          False        False          Night   \n",
       "2  False           False          False        False          Night   \n",
       "3  False           False          False        False          Night   \n",
       "4  False           False          False        False            Day   \n",
       "\n",
       "  Civil_Twilight Nautical_Twilight Astronomical_Twilight  \n",
       "0          Night             Night                 Night  \n",
       "1          Night             Night                 Night  \n",
       "2          Night             Night                   Day  \n",
       "3          Night               Day                   Day  \n",
       "4            Day               Day                   Day  \n",
       "\n",
       "[5 rows x 47 columns]"
      ]
     },
     "execution_count": 7,
     "metadata": {},
     "output_type": "execute_result"
    }
   ],
   "source": [
    "accidents_df.head()"
   ]
  },
  {
   "cell_type": "code",
   "execution_count": 8,
   "id": "35c382eb",
   "metadata": {},
   "outputs": [
    {
     "data": {
      "text/plain": [
       "0          False\n",
       "1          False\n",
       "2          False\n",
       "3          False\n",
       "4          False\n",
       "           ...  \n",
       "2845337    False\n",
       "2845338    False\n",
       "2845339    False\n",
       "2845340    False\n",
       "2845341    False\n",
       "Length: 2845342, dtype: bool"
      ]
     },
     "execution_count": 8,
     "metadata": {},
     "output_type": "execute_result"
    }
   ],
   "source": [
    "accidents_df.duplicated()"
   ]
  },
  {
   "cell_type": "code",
   "execution_count": 9,
   "id": "5cfaf796",
   "metadata": {},
   "outputs": [
    {
     "data": {
      "text/plain": [
       "(2845342, 47)"
      ]
     },
     "execution_count": 9,
     "metadata": {},
     "output_type": "execute_result"
    }
   ],
   "source": [
    "accidents_df.shape"
   ]
  },
  {
   "cell_type": "code",
   "execution_count": 10,
   "id": "dc981f13",
   "metadata": {},
   "outputs": [
    {
     "data": {
      "text/plain": [
       "Index(['ID', 'Severity', 'Start_Time', 'End_Time', 'Start_Lat', 'Start_Lng',\n",
       "       'End_Lat', 'End_Lng', 'Distance(mi)', 'Description', 'Number', 'Street',\n",
       "       'Side', 'City', 'County', 'State', 'Zipcode', 'Country', 'Timezone',\n",
       "       'Airport_Code', 'Weather_Timestamp', 'Temperature(F)', 'Wind_Chill(F)',\n",
       "       'Humidity(%)', 'Pressure(in)', 'Visibility(mi)', 'Wind_Direction',\n",
       "       'Wind_Speed(mph)', 'Precipitation(in)', 'Weather_Condition', 'Amenity',\n",
       "       'Bump', 'Crossing', 'Give_Way', 'Junction', 'No_Exit', 'Railway',\n",
       "       'Roundabout', 'Station', 'Stop', 'Traffic_Calming', 'Traffic_Signal',\n",
       "       'Turning_Loop', 'Sunrise_Sunset', 'Civil_Twilight', 'Nautical_Twilight',\n",
       "       'Astronomical_Twilight'],\n",
       "      dtype='object')"
      ]
     },
     "execution_count": 10,
     "metadata": {},
     "output_type": "execute_result"
    }
   ],
   "source": [
    "accidents_df.columns"
   ]
  },
  {
   "cell_type": "code",
   "execution_count": 11,
   "id": "11f7eb5e",
   "metadata": {},
   "outputs": [
    {
     "data": {
      "text/html": [
       "<div>\n",
       "<style scoped>\n",
       "    .dataframe tbody tr th:only-of-type {\n",
       "        vertical-align: middle;\n",
       "    }\n",
       "\n",
       "    .dataframe tbody tr th {\n",
       "        vertical-align: top;\n",
       "    }\n",
       "\n",
       "    .dataframe thead th {\n",
       "        text-align: right;\n",
       "    }\n",
       "</style>\n",
       "<table border=\"1\" class=\"dataframe\">\n",
       "  <thead>\n",
       "    <tr style=\"text-align: right;\">\n",
       "      <th></th>\n",
       "      <th>Severity</th>\n",
       "      <th>Start_Lat</th>\n",
       "      <th>Start_Lng</th>\n",
       "      <th>End_Lat</th>\n",
       "      <th>End_Lng</th>\n",
       "      <th>Distance(mi)</th>\n",
       "      <th>Number</th>\n",
       "      <th>Temperature(F)</th>\n",
       "      <th>Wind_Chill(F)</th>\n",
       "      <th>Humidity(%)</th>\n",
       "      <th>Pressure(in)</th>\n",
       "      <th>Visibility(mi)</th>\n",
       "      <th>Wind_Speed(mph)</th>\n",
       "      <th>Precipitation(in)</th>\n",
       "    </tr>\n",
       "  </thead>\n",
       "  <tbody>\n",
       "    <tr>\n",
       "      <th>count</th>\n",
       "      <td>2.845342e+06</td>\n",
       "      <td>2.845342e+06</td>\n",
       "      <td>2.845342e+06</td>\n",
       "      <td>2.845342e+06</td>\n",
       "      <td>2.845342e+06</td>\n",
       "      <td>2.845342e+06</td>\n",
       "      <td>1.101431e+06</td>\n",
       "      <td>2.776068e+06</td>\n",
       "      <td>2.375699e+06</td>\n",
       "      <td>2.772250e+06</td>\n",
       "      <td>2.786142e+06</td>\n",
       "      <td>2.774796e+06</td>\n",
       "      <td>2.687398e+06</td>\n",
       "      <td>2.295884e+06</td>\n",
       "    </tr>\n",
       "    <tr>\n",
       "      <th>mean</th>\n",
       "      <td>2.137572e+00</td>\n",
       "      <td>3.624520e+01</td>\n",
       "      <td>-9.711463e+01</td>\n",
       "      <td>3.624532e+01</td>\n",
       "      <td>-9.711439e+01</td>\n",
       "      <td>7.026779e-01</td>\n",
       "      <td>8.089408e+03</td>\n",
       "      <td>6.179356e+01</td>\n",
       "      <td>5.965823e+01</td>\n",
       "      <td>6.436545e+01</td>\n",
       "      <td>2.947234e+01</td>\n",
       "      <td>9.099391e+00</td>\n",
       "      <td>7.395044e+00</td>\n",
       "      <td>7.016940e-03</td>\n",
       "    </tr>\n",
       "    <tr>\n",
       "      <th>std</th>\n",
       "      <td>4.787216e-01</td>\n",
       "      <td>5.363797e+00</td>\n",
       "      <td>1.831782e+01</td>\n",
       "      <td>5.363873e+00</td>\n",
       "      <td>1.831763e+01</td>\n",
       "      <td>1.560361e+00</td>\n",
       "      <td>1.836009e+04</td>\n",
       "      <td>1.862263e+01</td>\n",
       "      <td>2.116097e+01</td>\n",
       "      <td>2.287457e+01</td>\n",
       "      <td>1.045286e+00</td>\n",
       "      <td>2.717546e+00</td>\n",
       "      <td>5.527454e+00</td>\n",
       "      <td>9.348831e-02</td>\n",
       "    </tr>\n",
       "    <tr>\n",
       "      <th>min</th>\n",
       "      <td>1.000000e+00</td>\n",
       "      <td>2.456603e+01</td>\n",
       "      <td>-1.245481e+02</td>\n",
       "      <td>2.456601e+01</td>\n",
       "      <td>-1.245457e+02</td>\n",
       "      <td>0.000000e+00</td>\n",
       "      <td>0.000000e+00</td>\n",
       "      <td>-8.900000e+01</td>\n",
       "      <td>-8.900000e+01</td>\n",
       "      <td>1.000000e+00</td>\n",
       "      <td>0.000000e+00</td>\n",
       "      <td>0.000000e+00</td>\n",
       "      <td>0.000000e+00</td>\n",
       "      <td>0.000000e+00</td>\n",
       "    </tr>\n",
       "    <tr>\n",
       "      <th>25%</th>\n",
       "      <td>2.000000e+00</td>\n",
       "      <td>3.344517e+01</td>\n",
       "      <td>-1.180331e+02</td>\n",
       "      <td>3.344628e+01</td>\n",
       "      <td>-1.180333e+02</td>\n",
       "      <td>5.200000e-02</td>\n",
       "      <td>1.270000e+03</td>\n",
       "      <td>5.000000e+01</td>\n",
       "      <td>4.600000e+01</td>\n",
       "      <td>4.800000e+01</td>\n",
       "      <td>2.931000e+01</td>\n",
       "      <td>1.000000e+01</td>\n",
       "      <td>3.500000e+00</td>\n",
       "      <td>0.000000e+00</td>\n",
       "    </tr>\n",
       "    <tr>\n",
       "      <th>50%</th>\n",
       "      <td>2.000000e+00</td>\n",
       "      <td>3.609861e+01</td>\n",
       "      <td>-9.241808e+01</td>\n",
       "      <td>3.609799e+01</td>\n",
       "      <td>-9.241772e+01</td>\n",
       "      <td>2.440000e-01</td>\n",
       "      <td>4.007000e+03</td>\n",
       "      <td>6.400000e+01</td>\n",
       "      <td>6.300000e+01</td>\n",
       "      <td>6.700000e+01</td>\n",
       "      <td>2.982000e+01</td>\n",
       "      <td>1.000000e+01</td>\n",
       "      <td>7.000000e+00</td>\n",
       "      <td>0.000000e+00</td>\n",
       "    </tr>\n",
       "    <tr>\n",
       "      <th>75%</th>\n",
       "      <td>2.000000e+00</td>\n",
       "      <td>4.016024e+01</td>\n",
       "      <td>-8.037243e+01</td>\n",
       "      <td>4.016105e+01</td>\n",
       "      <td>-8.037338e+01</td>\n",
       "      <td>7.640000e-01</td>\n",
       "      <td>9.567000e+03</td>\n",
       "      <td>7.600000e+01</td>\n",
       "      <td>7.600000e+01</td>\n",
       "      <td>8.300000e+01</td>\n",
       "      <td>3.001000e+01</td>\n",
       "      <td>1.000000e+01</td>\n",
       "      <td>1.000000e+01</td>\n",
       "      <td>0.000000e+00</td>\n",
       "    </tr>\n",
       "    <tr>\n",
       "      <th>max</th>\n",
       "      <td>4.000000e+00</td>\n",
       "      <td>4.900058e+01</td>\n",
       "      <td>-6.711317e+01</td>\n",
       "      <td>4.907500e+01</td>\n",
       "      <td>-6.710924e+01</td>\n",
       "      <td>1.551860e+02</td>\n",
       "      <td>9.999997e+06</td>\n",
       "      <td>1.960000e+02</td>\n",
       "      <td>1.960000e+02</td>\n",
       "      <td>1.000000e+02</td>\n",
       "      <td>5.890000e+01</td>\n",
       "      <td>1.400000e+02</td>\n",
       "      <td>1.087000e+03</td>\n",
       "      <td>2.400000e+01</td>\n",
       "    </tr>\n",
       "  </tbody>\n",
       "</table>\n",
       "</div>"
      ],
      "text/plain": [
       "           Severity     Start_Lat     Start_Lng       End_Lat       End_Lng  \\\n",
       "count  2.845342e+06  2.845342e+06  2.845342e+06  2.845342e+06  2.845342e+06   \n",
       "mean   2.137572e+00  3.624520e+01 -9.711463e+01  3.624532e+01 -9.711439e+01   \n",
       "std    4.787216e-01  5.363797e+00  1.831782e+01  5.363873e+00  1.831763e+01   \n",
       "min    1.000000e+00  2.456603e+01 -1.245481e+02  2.456601e+01 -1.245457e+02   \n",
       "25%    2.000000e+00  3.344517e+01 -1.180331e+02  3.344628e+01 -1.180333e+02   \n",
       "50%    2.000000e+00  3.609861e+01 -9.241808e+01  3.609799e+01 -9.241772e+01   \n",
       "75%    2.000000e+00  4.016024e+01 -8.037243e+01  4.016105e+01 -8.037338e+01   \n",
       "max    4.000000e+00  4.900058e+01 -6.711317e+01  4.907500e+01 -6.710924e+01   \n",
       "\n",
       "       Distance(mi)        Number  Temperature(F)  Wind_Chill(F)  \\\n",
       "count  2.845342e+06  1.101431e+06    2.776068e+06   2.375699e+06   \n",
       "mean   7.026779e-01  8.089408e+03    6.179356e+01   5.965823e+01   \n",
       "std    1.560361e+00  1.836009e+04    1.862263e+01   2.116097e+01   \n",
       "min    0.000000e+00  0.000000e+00   -8.900000e+01  -8.900000e+01   \n",
       "25%    5.200000e-02  1.270000e+03    5.000000e+01   4.600000e+01   \n",
       "50%    2.440000e-01  4.007000e+03    6.400000e+01   6.300000e+01   \n",
       "75%    7.640000e-01  9.567000e+03    7.600000e+01   7.600000e+01   \n",
       "max    1.551860e+02  9.999997e+06    1.960000e+02   1.960000e+02   \n",
       "\n",
       "        Humidity(%)  Pressure(in)  Visibility(mi)  Wind_Speed(mph)  \\\n",
       "count  2.772250e+06  2.786142e+06    2.774796e+06     2.687398e+06   \n",
       "mean   6.436545e+01  2.947234e+01    9.099391e+00     7.395044e+00   \n",
       "std    2.287457e+01  1.045286e+00    2.717546e+00     5.527454e+00   \n",
       "min    1.000000e+00  0.000000e+00    0.000000e+00     0.000000e+00   \n",
       "25%    4.800000e+01  2.931000e+01    1.000000e+01     3.500000e+00   \n",
       "50%    6.700000e+01  2.982000e+01    1.000000e+01     7.000000e+00   \n",
       "75%    8.300000e+01  3.001000e+01    1.000000e+01     1.000000e+01   \n",
       "max    1.000000e+02  5.890000e+01    1.400000e+02     1.087000e+03   \n",
       "\n",
       "       Precipitation(in)  \n",
       "count       2.295884e+06  \n",
       "mean        7.016940e-03  \n",
       "std         9.348831e-02  \n",
       "min         0.000000e+00  \n",
       "25%         0.000000e+00  \n",
       "50%         0.000000e+00  \n",
       "75%         0.000000e+00  \n",
       "max         2.400000e+01  "
      ]
     },
     "execution_count": 11,
     "metadata": {},
     "output_type": "execute_result"
    }
   ],
   "source": [
    "accidents_df.describe()"
   ]
  },
  {
   "cell_type": "code",
   "execution_count": 12,
   "id": "710e3232",
   "metadata": {},
   "outputs": [
    {
     "data": {
      "text/plain": [
       "Number                   6.129003e-01\n",
       "Precipitation(in)        1.931079e-01\n",
       "Wind_Chill(F)            1.650568e-01\n",
       "Wind_Speed(mph)          5.550967e-02\n",
       "Wind_Direction           2.592834e-02\n",
       "Humidity(%)              2.568830e-02\n",
       "Weather_Condition        2.482514e-02\n",
       "Visibility(mi)           2.479350e-02\n",
       "Temperature(F)           2.434646e-02\n",
       "Pressure(in)             2.080593e-02\n",
       "Weather_Timestamp        1.783125e-02\n",
       "Airport_Code             3.356011e-03\n",
       "Timezone                 1.285961e-03\n",
       "Nautical_Twilight        1.007612e-03\n",
       "Civil_Twilight           1.007612e-03\n",
       "Sunrise_Sunset           1.007612e-03\n",
       "Astronomical_Twilight    1.007612e-03\n",
       "Zipcode                  4.635647e-04\n",
       "City                     4.814887e-05\n",
       "Street                   7.029032e-07\n",
       "Country                  0.000000e+00\n",
       "Junction                 0.000000e+00\n",
       "Start_Time               0.000000e+00\n",
       "End_Time                 0.000000e+00\n",
       "Start_Lat                0.000000e+00\n",
       "Turning_Loop             0.000000e+00\n",
       "Traffic_Signal           0.000000e+00\n",
       "Traffic_Calming          0.000000e+00\n",
       "Stop                     0.000000e+00\n",
       "Station                  0.000000e+00\n",
       "Roundabout               0.000000e+00\n",
       "Railway                  0.000000e+00\n",
       "No_Exit                  0.000000e+00\n",
       "Crossing                 0.000000e+00\n",
       "Give_Way                 0.000000e+00\n",
       "Bump                     0.000000e+00\n",
       "Amenity                  0.000000e+00\n",
       "Start_Lng                0.000000e+00\n",
       "End_Lat                  0.000000e+00\n",
       "End_Lng                  0.000000e+00\n",
       "Distance(mi)             0.000000e+00\n",
       "Description              0.000000e+00\n",
       "Severity                 0.000000e+00\n",
       "Side                     0.000000e+00\n",
       "County                   0.000000e+00\n",
       "State                    0.000000e+00\n",
       "ID                       0.000000e+00\n",
       "dtype: float64"
      ]
     },
     "execution_count": 12,
     "metadata": {},
     "output_type": "execute_result"
    }
   ],
   "source": [
    "missing_percentages = accidents_df.isna().sum().sort_values(ascending=False) / len(accidents_df)\n",
    "missing_percentages"
   ]
  },
  {
   "cell_type": "code",
   "execution_count": 13,
   "id": "8e85d75d",
   "metadata": {},
   "outputs": [
    {
     "data": {
      "text/plain": [
       "Number                    True\n",
       "Precipitation(in)         True\n",
       "Wind_Chill(F)             True\n",
       "Wind_Speed(mph)           True\n",
       "Wind_Direction            True\n",
       "Humidity(%)               True\n",
       "Weather_Condition         True\n",
       "Visibility(mi)            True\n",
       "Temperature(F)            True\n",
       "Pressure(in)              True\n",
       "Weather_Timestamp         True\n",
       "Airport_Code              True\n",
       "Timezone                  True\n",
       "Nautical_Twilight         True\n",
       "Civil_Twilight            True\n",
       "Sunrise_Sunset            True\n",
       "Astronomical_Twilight     True\n",
       "Zipcode                   True\n",
       "City                      True\n",
       "Street                    True\n",
       "Country                  False\n",
       "Junction                 False\n",
       "Start_Time               False\n",
       "End_Time                 False\n",
       "Start_Lat                False\n",
       "Turning_Loop             False\n",
       "Traffic_Signal           False\n",
       "Traffic_Calming          False\n",
       "Stop                     False\n",
       "Station                  False\n",
       "Roundabout               False\n",
       "Railway                  False\n",
       "No_Exit                  False\n",
       "Crossing                 False\n",
       "Give_Way                 False\n",
       "Bump                     False\n",
       "Amenity                  False\n",
       "Start_Lng                False\n",
       "End_Lat                  False\n",
       "End_Lng                  False\n",
       "Distance(mi)             False\n",
       "Description              False\n",
       "Severity                 False\n",
       "Side                     False\n",
       "County                   False\n",
       "State                    False\n",
       "ID                       False\n",
       "dtype: bool"
      ]
     },
     "execution_count": 13,
     "metadata": {},
     "output_type": "execute_result"
    }
   ],
   "source": [
    "missing_percentages != 0"
   ]
  },
  {
   "cell_type": "code",
   "execution_count": 14,
   "id": "1e9aa30b",
   "metadata": {},
   "outputs": [
    {
     "data": {
      "text/plain": [
       "<AxesSubplot: >"
      ]
     },
     "execution_count": 14,
     "metadata": {},
     "output_type": "execute_result"
    },
    {
     "data": {
      "image/png": "[encoded data removed]",
      "text/plain": [
       "<Figure size 432x288 with 1 Axes>"
      ]
     },
     "metadata": {
      "needs_background": "light"
     },
     "output_type": "display_data"
    }
   ],
   "source": [
    "missing_percentages[missing_percentages != 0].plot(kind='barh')"
   ]
  },
  {
   "cell_type": "markdown",
   "id": "908b644e",
   "metadata": {},
   "source": [
    "# Exploratory Analysis and Visualization\n",
    "\n",
    "columns we analyse"
   ]
  },
  {
   "cell_type": "code",
   "execution_count": 15,
   "id": "b563a306",
   "metadata": {},
   "outputs": [
    {
     "data": {
      "text/plain": [
       "0               Dublin\n",
       "1               Dayton\n",
       "2           Cincinnati\n",
       "3                Akron\n",
       "4           Cincinnati\n",
       "              ...     \n",
       "2845337      Riverside\n",
       "2845338      San Diego\n",
       "2845339         Orange\n",
       "2845340    Culver City\n",
       "2845341       Highland\n",
       "Name: City, Length: 2845342, dtype: object"
      ]
     },
     "execution_count": 15,
     "metadata": {},
     "output_type": "execute_result"
    }
   ],
   "source": [
    "accidents_df.City\n"
   ]
  },
  {
   "cell_type": "code",
   "execution_count": 16,
   "id": "fc26cf14",
   "metadata": {},
   "outputs": [
    {
     "data": {
      "text/plain": [
       "11682"
      ]
     },
     "execution_count": 16,
     "metadata": {},
     "output_type": "execute_result"
    }
   ],
   "source": [
    "cities = accidents_df.City.unique()\n",
    "len(cities)"
   ]
  },
  {
   "cell_type": "code",
   "execution_count": 17,
   "id": "d384b1e4",
   "metadata": {},
   "outputs": [
    {
     "data": {
      "text/plain": [
       "Miami                           106966\n",
       "Los Angeles                      68956\n",
       "Orlando                          54691\n",
       "Dallas                           41979\n",
       "Houston                          39448\n",
       "                                 ...  \n",
       "Ridgedale                            1\n",
       "Sekiu                                1\n",
       "Wooldridge                           1\n",
       "Bullock                              1\n",
       "American Fork-Pleasant Grove         1\n",
       "Name: City, Length: 11681, dtype: int64"
      ]
     },
     "execution_count": 17,
     "metadata": {},
     "output_type": "execute_result"
    }
   ],
   "source": [
    "cities_by_accidents = accidents_df.City.value_counts()\n",
    "cities_by_accidents"
   ]
  },
  {
   "cell_type": "code",
   "execution_count": 18,
   "id": "4859d82d",
   "metadata": {},
   "outputs": [
    {
     "data": {
      "text/plain": [
       "<AxesSubplot: >"
      ]
     },
     "execution_count": 18,
     "metadata": {},
     "output_type": "execute_result"
    },
    {
     "data": {
      "image/png": "[encoded data removed]",
      "text/plain": [
       "<Figure size 432x288 with 1 Axes>"
      ]
     },
     "metadata": {
      "needs_background": "light"
     },
     "output_type": "display_data"
    }
   ],
   "source": [
    "cities_by_accidents[:10].plot(kind='barh')"
   ]
  },
  {
   "cell_type": "code",
   "execution_count": 19,
   "id": "eab9e00d",
   "metadata": {},
   "outputs": [
    {
     "data": {
      "text/plain": [
       "True"
      ]
     },
     "execution_count": 19,
     "metadata": {},
     "output_type": "execute_result"
    }
   ],
   "source": [
    "value_to_search = \"New York\"\n",
    "is_value_present = value_to_search in accidents_df[\"City\"].values\n",
    "is_value_present"
   ]
  },
  {
   "cell_type": "code",
   "execution_count": 20,
   "id": "1138f444",
   "metadata": {},
   "outputs": [
    {
     "name": "stderr",
     "output_type": "stream",
     "text": [
      "C:\\python\\python3.9\\lib\\site-packages\\seaborn\\distributions.py:2619: FutureWarning: `distplot` is a deprecated function and will be removed in a future version. Please adapt your code to use either `displot` (a figure-level function with similar flexibility) or `histplot` (an axes-level function for histograms).\n",
      "  warnings.warn(msg, FutureWarning)\n"
     ]
    },
    {
     "data": {
      "text/plain": [
       "<AxesSubplot: xlabel='City', ylabel='Density'>"
      ]
     },
     "execution_count": 20,
     "metadata": {},
     "output_type": "execute_result"
    },
    {
     "data": {
      "image/png": "[encoded data removed]",
      "text/plain": [
       "<Figure size 432x288 with 1 Axes>"
      ]
     },
     "metadata": {},
     "output_type": "display_data"
    }
   ],
   "source": [
    "sns.set_style(\"darkgrid\")\n",
    "sns.distplot(cities_by_accidents)"
   ]
  },
  {
   "cell_type": "code",
   "execution_count": 21,
   "id": "7d119035",
   "metadata": {},
   "outputs": [],
   "source": [
    "high_accident_cities = cities_by_accidents[cities_by_accidents > 1000]\n",
    "low_accident_cities = cities_by_accidents[cities_by_accidents < 1000]"
   ]
  },
  {
   "cell_type": "code",
   "execution_count": 22,
   "id": "60a10ef2",
   "metadata": {},
   "outputs": [
    {
     "data": {
      "text/plain": [
       "0.04228727957541517"
      ]
     },
     "execution_count": 22,
     "metadata": {},
     "output_type": "execute_result"
    }
   ],
   "source": [
    "len(high_accident_cities) / len(cities)"
   ]
  },
  {
   "cell_type": "code",
   "execution_count": 23,
   "id": "0f9e3d07",
   "metadata": {},
   "outputs": [
    {
     "data": {
      "text/plain": [
       "<AxesSubplot: xlabel='City', ylabel='Count'>"
      ]
     },
     "execution_count": 23,
     "metadata": {},
     "output_type": "execute_result"
    },
    {
     "data": {
      "image/png": "[encoded data removed]",
      "text/plain": [
       "<Figure size 432x288 with 1 Axes>"
      ]
     },
     "metadata": {},
     "output_type": "display_data"
    }
   ],
   "source": [
    "sns.histplot(high_accident_cities, log_scale=True)"
   ]
  },
  {
   "cell_type": "code",
   "execution_count": 24,
   "id": "9b6c4903",
   "metadata": {},
   "outputs": [
    {
     "data": {
      "text/plain": [
       "<AxesSubplot: xlabel='City', ylabel='Count'>"
      ]
     },
     "execution_count": 24,
     "metadata": {},
     "output_type": "execute_result"
    },
    {
     "data": {
      "image/png": "[encoded data removed]",
      "text/plain": [
       "<Figure size 432x288 with 1 Axes>"
      ]
     },
     "metadata": {},
     "output_type": "display_data"
    }
   ],
   "source": [
    "sns.histplot(low_accident_cities)"
   ]
  },
  {
   "cell_type": "code",
   "execution_count": 25,
   "id": "4e5b0815",
   "metadata": {},
   "outputs": [
    {
     "data": {
      "text/plain": [
       "Carney                          1\n",
       "Waverly Hall                    1\n",
       "Center Sandwich                 1\n",
       "Glen Flora                      1\n",
       "Sulphur Springs                 1\n",
       "                               ..\n",
       "Ridgedale                       1\n",
       "Sekiu                           1\n",
       "Wooldridge                      1\n",
       "Bullock                         1\n",
       "American Fork-Pleasant Grove    1\n",
       "Name: City, Length: 1110, dtype: int64"
      ]
     },
     "execution_count": 25,
     "metadata": {},
     "output_type": "execute_result"
    }
   ],
   "source": [
    "cities_by_accidents[cities_by_accidents == 1]"
   ]
  },
  {
   "cell_type": "code",
   "execution_count": 26,
   "id": "3bc63d94",
   "metadata": {},
   "outputs": [
    {
     "data": {
      "text/plain": [
       "0          2016-02-08 00:37:08\n",
       "1          2016-02-08 05:56:20\n",
       "2          2016-02-08 06:15:39\n",
       "3          2016-02-08 06:51:45\n",
       "4          2016-02-08 07:53:43\n",
       "                  ...         \n",
       "2845337    2019-08-23 18:03:25\n",
       "2845338    2019-08-23 19:11:30\n",
       "2845339    2019-08-23 19:00:21\n",
       "2845340    2019-08-23 19:00:21\n",
       "2845341    2019-08-23 18:52:06\n",
       "Name: Start_Time, Length: 2845342, dtype: object"
      ]
     },
     "execution_count": 26,
     "metadata": {},
     "output_type": "execute_result"
    }
   ],
   "source": [
    "accidents_df.Start_Time               "
   ]
  },
  {
   "cell_type": "code",
   "execution_count": 27,
   "id": "641886be",
   "metadata": {},
   "outputs": [],
   "source": [
    "accidents_df['Start_Time'] = pd.to_datetime(accidents_df['Start_Time'])"
   ]
  },
  {
   "cell_type": "code",
   "execution_count": 28,
   "id": "547668dd",
   "metadata": {},
   "outputs": [
    {
     "name": "stderr",
     "output_type": "stream",
     "text": [
      "C:\\python\\python3.9\\lib\\site-packages\\seaborn\\distributions.py:2619: FutureWarning: `distplot` is a deprecated function and will be removed in a future version. Please adapt your code to use either `displot` (a figure-level function with similar flexibility) or `histplot` (an axes-level function for histograms).\n",
      "  warnings.warn(msg, FutureWarning)\n"
     ]
    },
    {
     "data": {
      "text/plain": [
       "<AxesSubplot: xlabel='Start_Time'>"
      ]
     },
     "execution_count": 28,
     "metadata": {},
     "output_type": "execute_result"
    },
    {
     "data": {
      "image/png": "[encoded data removed]",
      "text/plain": [
       "<Figure size 432x288 with 1 Axes>"
      ]
     },
     "metadata": {},
     "output_type": "display_data"
    }
   ],
   "source": [
    "sns.distplot(accidents_df.Start_Time.dt.hour, bins=24,hist=True, kde=False, norm_hist=True) \n"
   ]
  },
  {
   "cell_type": "markdown",
   "id": "df0a90b6",
   "metadata": {},
   "source": [
    "- A high percentages of accidents occur between 3pm to 6pm (probably people going home from offices)\n",
    "- Next highest percentages is 6am to 8am(Due to hurry to get to work)  "
   ]
  },
  {
   "cell_type": "code",
   "execution_count": 29,
   "id": "67a961ee",
   "metadata": {},
   "outputs": [
    {
     "data": {
      "text/plain": [
       "<AxesSubplot: xlabel='Start_Time'>"
      ]
     },
     "execution_count": 29,
     "metadata": {},
     "output_type": "execute_result"
    },
    {
     "data": {
      "image/png": "[encoded data removed]",
      "text/plain": [
       "<Figure size 432x288 with 1 Axes>"
      ]
     },
     "metadata": {},
     "output_type": "display_data"
    }
   ],
   "source": [
    "sns.distplot(accidents_df.Start_Time.dt.dayofweek, bins=7,hist=True, kde=False, norm_hist=True) \n"
   ]
  },
  {
   "cell_type": "markdown",
   "id": "65f04ec1",
   "metadata": {},
   "source": [
    "Is the distribution of accidents by hour the same on weekends as weekdays"
   ]
  },
  {
   "cell_type": "code",
   "execution_count": 30,
   "id": "b90cd6c2",
   "metadata": {},
   "outputs": [
    {
     "data": {
      "text/plain": [
       "<AxesSubplot: xlabel='Start_Time'>"
      ]
     },
     "execution_count": 30,
     "metadata": {},
     "output_type": "execute_result"
    },
    {
     "data": {
      "image/png": "[encoded data removed]",
      "text/plain": [
       "<Figure size 432x288 with 1 Axes>"
      ]
     },
     "metadata": {},
     "output_type": "display_data"
    }
   ],
   "source": [
    "sunday_start_time = accidents_df[accidents_df.Start_Time.dt.dayofweek == 6]\n",
    "\n",
    "sns.distplot(sunday_start_time.Start_Time.dt.hour, bins=24,hist=True, kde=False, norm_hist=True) \n"
   ]
  },
  {
   "cell_type": "code",
   "execution_count": 31,
   "id": "5c6fd21d",
   "metadata": {},
   "outputs": [
    {
     "data": {
      "text/plain": [
       "<AxesSubplot: xlabel='Start_Time'>"
      ]
     },
     "execution_count": 31,
     "metadata": {},
     "output_type": "execute_result"
    },
    {
     "data": {
      "image/png": "[encoded data removed]",
      "text/plain": [
       "<Figure size 432x288 with 1 Axes>"
      ]
     },
     "metadata": {},
     "output_type": "display_data"
    }
   ],
   "source": [
    "monday_start_time = accidents_df[accidents_df.Start_Time.dt.dayofweek == 0]\n",
    "\n",
    "sns.distplot(monday_start_time.Start_Time.dt.hour, bins=24,hist=True, kde=False, norm_hist=True) \n"
   ]
  },
  {
   "cell_type": "markdown",
   "id": "3c43aac2",
   "metadata": {},
   "source": [
    "on sundays peak hours early morning  and 5pm"
   ]
  },
  {
   "cell_type": "code",
   "execution_count": 32,
   "id": "33ca5dd6",
   "metadata": {},
   "outputs": [
    {
     "data": {
      "text/plain": [
       "<AxesSubplot: xlabel='Start_Time'>"
      ]
     },
     "execution_count": 32,
     "metadata": {},
     "output_type": "execute_result"
    },
    {
     "data": {
      "image/png": "[encoded data removed]",
      "text/plain": [
       "<Figure size 432x288 with 1 Axes>"
      ]
     },
     "metadata": {},
     "output_type": "display_data"
    }
   ],
   "source": [
    "sns.distplot(monday_start_time.Start_Time.dt.month, bins=12,hist=True, kde=False, norm_hist=True) \n"
   ]
  },
  {
   "cell_type": "markdown",
   "id": "74a9ccc7",
   "metadata": {},
   "source": [
    "accidents on summers is low compare to winters maybe due to heavy snowfall and festive season"
   ]
  },
  {
   "cell_type": "code",
   "execution_count": 33,
   "id": "e6dff835",
   "metadata": {},
   "outputs": [
    {
     "data": {
      "text/plain": [
       "<AxesSubplot: xlabel='Start_Time'>"
      ]
     },
     "execution_count": 33,
     "metadata": {},
     "output_type": "execute_result"
    },
    {
     "data": {
      "image/png": "[encoded data removed]",
      "text/plain": [
       "<Figure size 432x288 with 1 Axes>"
      ]
     },
     "metadata": {},
     "output_type": "display_data"
    }
   ],
   "source": [
    "df_2019 = accidents_df[accidents_df.Start_Time.dt.year == 2019] \n",
    "sns.distplot(df_2019.Start_Time.dt.month, bins=12,hist=True, kde=False, norm_hist=True) \n"
   ]
  },
  {
   "cell_type": "markdown",
   "id": "8b108792",
   "metadata": {},
   "source": [
    "data is missng in 2020,2016"
   ]
  },
  {
   "cell_type": "code",
   "execution_count": 34,
   "id": "dc551561",
   "metadata": {},
   "outputs": [
    {
     "data": {
      "text/plain": [
       "Index(['ID', 'Severity', 'Start_Time', 'End_Time', 'Start_Lat', 'Start_Lng',\n",
       "       'End_Lat', 'End_Lng', 'Distance(mi)', 'Description', 'Number', 'Street',\n",
       "       'Side', 'City', 'County', 'State', 'Zipcode', 'Country', 'Timezone',\n",
       "       'Airport_Code', 'Weather_Timestamp', 'Temperature(F)', 'Wind_Chill(F)',\n",
       "       'Humidity(%)', 'Pressure(in)', 'Visibility(mi)', 'Wind_Direction',\n",
       "       'Wind_Speed(mph)', 'Precipitation(in)', 'Weather_Condition', 'Amenity',\n",
       "       'Bump', 'Crossing', 'Give_Way', 'Junction', 'No_Exit', 'Railway',\n",
       "       'Roundabout', 'Station', 'Stop', 'Traffic_Calming', 'Traffic_Signal',\n",
       "       'Turning_Loop', 'Sunrise_Sunset', 'Civil_Twilight', 'Nautical_Twilight',\n",
       "       'Astronomical_Twilight'],\n",
       "      dtype='object')"
      ]
     },
     "execution_count": 34,
     "metadata": {},
     "output_type": "execute_result"
    }
   ],
   "source": [
    "accidents_df.columns"
   ]
  },
  {
   "cell_type": "code",
   "execution_count": 35,
   "id": "0715571f",
   "metadata": {},
   "outputs": [
    {
     "data": {
      "text/plain": [
       "0          40.108910\n",
       "1          39.865420\n",
       "2          39.102660\n",
       "3          41.062130\n",
       "4          39.172393\n",
       "             ...    \n",
       "2845337    34.002480\n",
       "2845338    32.766960\n",
       "2845339    33.775450\n",
       "2845340    33.992460\n",
       "2845341    34.133930\n",
       "Name: Start_Lat, Length: 2845342, dtype: float64"
      ]
     },
     "execution_count": 35,
     "metadata": {},
     "output_type": "execute_result"
    }
   ],
   "source": [
    "## Start Latitude & Longitude\n",
    "\n",
    "accidents_df.Start_Lat"
   ]
  },
  {
   "cell_type": "code",
   "execution_count": 36,
   "id": "ae72b08f",
   "metadata": {},
   "outputs": [
    {
     "data": {
      "text/plain": [
       "0          -83.092860\n",
       "1          -84.062800\n",
       "2          -84.524680\n",
       "3          -81.537840\n",
       "4          -84.492792\n",
       "              ...    \n",
       "2845337   -117.379360\n",
       "2845338   -117.148060\n",
       "2845339   -117.847790\n",
       "2845340   -118.403020\n",
       "2845341   -117.230920\n",
       "Name: Start_Lng, Length: 2845342, dtype: float64"
      ]
     },
     "execution_count": 36,
     "metadata": {},
     "output_type": "execute_result"
    }
   ],
   "source": [
    "accidents_df.Start_Lng"
   ]
  },
  {
   "cell_type": "code",
   "execution_count": 37,
   "id": "e5442b01",
   "metadata": {},
   "outputs": [],
   "source": [
    "sample_df = accidents_df.sample(int(0.1 * len(accidents_df)))\n"
   ]
  },
  {
   "cell_type": "code",
   "execution_count": 38,
   "id": "db62dfde",
   "metadata": {},
   "outputs": [
    {
     "data": {
      "text/plain": [
       "<AxesSubplot: xlabel='Start_Lng', ylabel='Start_Lat'>"
      ]
     },
     "execution_count": 38,
     "metadata": {},
     "output_type": "execute_result"
    },
    {
     "data": {
      "image/png": "[encoded data removed]",
      "text/plain": [
       "<Figure size 432x288 with 1 Axes>"
      ]
     },
     "metadata": {},
     "output_type": "display_data"
    }
   ],
   "source": [
    "sns.scatterplot(x= sample_df.Start_Lng, y=sample_df.Start_Lat, size=0.001)"
   ]
  },
  {
   "cell_type": "code",
   "execution_count": 39,
   "id": "f5d6aa74",
   "metadata": {},
   "outputs": [
    {
     "name": "stdout",
     "output_type": "stream",
     "text": [
      "Requirement already satisfied: folium in c:\\python\\python3.9\\lib\\site-packages (0.14.0)\n",
      "Requirement already satisfied: numpy in c:\\python\\python3.9\\lib\\site-packages (from folium) (1.23.1)\n",
      "Requirement already satisfied: requests in c:\\python\\python3.9\\lib\\site-packages (from folium) (2.28.1)\n",
      "Requirement already satisfied: branca>=0.6.0 in c:\\python\\python3.9\\lib\\site-packages (from folium) (0.6.0)\n",
      "Requirement already satisfied: jinja2>=2.9 in c:\\python\\python3.9\\lib\\site-packages (from folium) (3.1.2)\n",
      "Requirement already satisfied: MarkupSafe>=2.0 in c:\\python\\python3.9\\lib\\site-packages (from jinja2>=2.9->folium) (2.1.1)\n",
      "Requirement already satisfied: idna<4,>=2.5 in c:\\python\\python3.9\\lib\\site-packages (from requests->folium) (3.4)\n",
      "Requirement already satisfied: urllib3<1.27,>=1.21.1 in c:\\python\\python3.9\\lib\\site-packages (from requests->folium) (1.26.12)\n",
      "Requirement already satisfied: charset-normalizer<3,>=2 in c:\\python\\python3.9\\lib\\site-packages (from requests->folium) (2.1.1)\n",
      "Requirement already satisfied: certifi>=2017.4.17 in c:\\python\\python3.9\\lib\\site-packages (from requests->folium) (2022.6.15.2)\n",
      "Note: you may need to restart the kernel to use updated packages.\n"
     ]
    },
    {
     "name": "stderr",
     "output_type": "stream",
     "text": [
      "WARNING: Ignoring invalid distribution -atplotlib (c:\\python\\python3.9\\lib\\site-packages)\n",
      "WARNING: Ignoring invalid distribution -atplotlib (c:\\python\\python3.9\\lib\\site-packages)\n",
      "WARNING: Ignoring invalid distribution -atplotlib (c:\\python\\python3.9\\lib\\site-packages)\n",
      "WARNING: Ignoring invalid distribution -atplotlib (c:\\python\\python3.9\\lib\\site-packages)\n",
      "WARNING: Ignoring invalid distribution -atplotlib (c:\\python\\python3.9\\lib\\site-packages)\n",
      "WARNING: Ignoring invalid distribution -atplotlib (c:\\python\\python3.9\\lib\\site-packages)\n"
     ]
    }
   ],
   "source": [
    "pip install folium\n"
   ]
  },
  {
   "cell_type": "code",
   "execution_count": 40,
   "id": "95be1571",
   "metadata": {},
   "outputs": [],
   "source": [
    "import folium\n"
   ]
  },
  {
   "cell_type": "code",
   "execution_count": 41,
   "id": "622c2e53",
   "metadata": {},
   "outputs": [
    {
     "data": {
      "text/html": [
       "<div style=\"width:100%;\"><div style=\"position:relative;width:100%;height:0;padding-bottom:60%;\"><span style=\"color:#565656\">Make this Notebook Trusted to load map: File -> Trust Notebook</span><iframe srcdoc=\"&lt;!DOCTYPE html&gt;\n",
       "&lt;html&gt;\n",
       "&lt;head&gt;\n",
       "    \n",
       "    &lt;meta http-equiv=&quot;content-type&quot; content=&quot;text/html; charset=UTF-8&quot; /&gt;\n",
       "    \n",
       "        &lt;script&gt;\n",
       "            L_NO_TOUCH = false;\n",
       "            L_DISABLE_3D = false;\n",
       "        &lt;/script&gt;\n",
       "    \n",
       "    &lt;style&gt;html, body {width: 100%;height: 100%;margin: 0;padding: 0;}&lt;/style&gt;\n",
       "    &lt;style&gt;#map {position:absolute;top:0;bottom:0;right:0;left:0;}&lt;/style&gt;\n",
       "    &lt;script src=&quot;https://cdn.jsdelivr.net/npm/leaflet@1.9.3/dist/leaflet.js&quot;&gt;&lt;/script&gt;\n",
       "    &lt;script src=&quot;https://code.jquery.com/jquery-1.12.4.min.js&quot;&gt;&lt;/script&gt;\n",
       "    &lt;script src=&quot;https://cdn.jsdelivr.net/npm/bootstrap@5.2.2/dist/js/bootstrap.bundle.min.js&quot;&gt;&lt;/script&gt;\n",
       "    &lt;script src=&quot;https://cdnjs.cloudflare.com/ajax/libs/Leaflet.awesome-markers/2.0.2/leaflet.awesome-markers.js&quot;&gt;&lt;/script&gt;\n",
       "    &lt;link rel=&quot;stylesheet&quot; href=&quot;https://cdn.jsdelivr.net/npm/leaflet@1.9.3/dist/leaflet.css&quot;/&gt;\n",
       "    &lt;link rel=&quot;stylesheet&quot; href=&quot;https://cdn.jsdelivr.net/npm/bootstrap@5.2.2/dist/css/bootstrap.min.css&quot;/&gt;\n",
       "    &lt;link rel=&quot;stylesheet&quot; href=&quot;https://netdna.bootstrapcdn.com/bootstrap/3.0.0/css/bootstrap.min.css&quot;/&gt;\n",
       "    &lt;link rel=&quot;stylesheet&quot; href=&quot;https://cdn.jsdelivr.net/npm/@fortawesome/fontawesome-free@6.2.0/css/all.min.css&quot;/&gt;\n",
       "    &lt;link rel=&quot;stylesheet&quot; href=&quot;https://cdnjs.cloudflare.com/ajax/libs/Leaflet.awesome-markers/2.0.2/leaflet.awesome-markers.css&quot;/&gt;\n",
       "    &lt;link rel=&quot;stylesheet&quot; href=&quot;https://cdn.jsdelivr.net/gh/python-visualization/folium/folium/templates/leaflet.awesome.rotate.min.css&quot;/&gt;\n",
       "    \n",
       "            &lt;meta name=&quot;viewport&quot; content=&quot;width=device-width,\n",
       "                initial-scale=1.0, maximum-scale=1.0, user-scalable=no&quot; /&gt;\n",
       "            &lt;style&gt;\n",
       "                #map_266d14f772d4f40fdc604ddaeadccc3d {\n",
       "                    position: relative;\n",
       "                    width: 100.0%;\n",
       "                    height: 100.0%;\n",
       "                    left: 0.0%;\n",
       "                    top: 0.0%;\n",
       "                }\n",
       "                .leaflet-container { font-size: 1rem; }\n",
       "            &lt;/style&gt;\n",
       "        \n",
       "&lt;/head&gt;\n",
       "&lt;body&gt;\n",
       "    \n",
       "    \n",
       "            &lt;div class=&quot;folium-map&quot; id=&quot;map_266d14f772d4f40fdc604ddaeadccc3d&quot; &gt;&lt;/div&gt;\n",
       "        \n",
       "&lt;/body&gt;\n",
       "&lt;script&gt;\n",
       "    \n",
       "    \n",
       "            var map_266d14f772d4f40fdc604ddaeadccc3d = L.map(\n",
       "                &quot;map_266d14f772d4f40fdc604ddaeadccc3d&quot;,\n",
       "                {\n",
       "                    center: [37.7749, -122.4194],\n",
       "                    crs: L.CRS.EPSG3857,\n",
       "                    zoom: 13,\n",
       "                    zoomControl: true,\n",
       "                    preferCanvas: false,\n",
       "                }\n",
       "            );\n",
       "\n",
       "            \n",
       "\n",
       "        \n",
       "    \n",
       "            var tile_layer_1a0ab90765bc8800558621bb3eb3c24e = L.tileLayer(\n",
       "                &quot;https://{s}.tile.openstreetmap.org/{z}/{x}/{y}.png&quot;,\n",
       "                {&quot;attribution&quot;: &quot;Data by \\u0026copy; \\u003ca target=\\&quot;_blank\\&quot; href=\\&quot;http://openstreetmap.org\\&quot;\\u003eOpenStreetMap\\u003c/a\\u003e, under \\u003ca target=\\&quot;_blank\\&quot; href=\\&quot;http://www.openstreetmap.org/copyright\\&quot;\\u003eODbL\\u003c/a\\u003e.&quot;, &quot;detectRetina&quot;: false, &quot;maxNativeZoom&quot;: 18, &quot;maxZoom&quot;: 18, &quot;minZoom&quot;: 0, &quot;noWrap&quot;: false, &quot;opacity&quot;: 1, &quot;subdomains&quot;: &quot;abc&quot;, &quot;tms&quot;: false}\n",
       "            ).addTo(map_266d14f772d4f40fdc604ddaeadccc3d);\n",
       "        \n",
       "&lt;/script&gt;\n",
       "&lt;/html&gt;\" style=\"position:absolute;width:100%;height:100%;left:0;top:0;border:none !important;\" allowfullscreen webkitallowfullscreen mozallowfullscreen></iframe></div></div>"
      ],
      "text/plain": [
       "<folium.folium.Map at 0x2233a109220>"
      ]
     },
     "execution_count": 41,
     "metadata": {},
     "output_type": "execute_result"
    }
   ],
   "source": [
    "lat = 37.7749\n",
    "lon = -122.4194\n",
    "folium.Map(location=[lat, lon], zoom_start=13)\n",
    "\n",
    "# Add a marker at the given Latitude and Longitude\n",
    "#folium.Marker(location=[lat, lon]).add_to(map)"
   ]
  },
  {
   "cell_type": "code",
   "execution_count": 42,
   "id": "02ae075f",
   "metadata": {},
   "outputs": [
    {
     "data": {
      "text/plain": [
       "(40.10891, -83.09286)"
      ]
     },
     "execution_count": 42,
     "metadata": {},
     "output_type": "execute_result"
    }
   ],
   "source": [
    "\n",
    "lat, lon = accidents_df.Start_Lat[0], accidents_df.Start_Lng[0]\n",
    "lat, lon"
   ]
  },
  {
   "cell_type": "code",
   "execution_count": 43,
   "id": "ab369c1e",
   "metadata": {},
   "outputs": [
    {
     "name": "stdout",
     "output_type": "stream",
     "text": [
      "('Start_Lat', 1794421    34.436074\n",
      "1738242    39.270810\n",
      "730417     28.296032\n",
      "775930     30.315075\n",
      "571900     32.820712\n",
      "             ...    \n",
      "1366165    35.816427\n",
      "2116254    41.553330\n",
      "101424     42.502780\n",
      "2579041    28.509630\n",
      "566276     41.494486\n",
      "Name: Start_Lat, Length: 100, dtype: float64)\n",
      "('Start_Lng', 1794421   -119.601385\n",
      "1738242   -123.242569\n",
      "730417     -81.599286\n",
      "775930     -81.770634\n",
      "571900     -80.047897\n",
      "              ...    \n",
      "1366165    -80.825847\n",
      "2116254    -81.575430\n",
      "101424     -71.123250\n",
      "2579041    -81.414580\n",
      "566276     -73.160736\n",
      "Name: Start_Lng, Length: 100, dtype: float64)\n"
     ]
    }
   ],
   "source": [
    "for x in accidents_df[['Start_Lat','Start_Lng']].sample(100).iteritems():\n",
    "    print(x)"
   ]
  },
  {
   "cell_type": "code",
   "execution_count": 44,
   "id": "4d542258",
   "metadata": {},
   "outputs": [],
   "source": [
    "## zip takes two or more iterables as input, and returns an iterator of tuples.\n",
    "\n",
    "latlng_list = list(zip(list(accidents_df.Start_Lat),(accidents_df.Start_Lng)))"
   ]
  },
  {
   "cell_type": "code",
   "execution_count": 45,
   "id": "241e888d",
   "metadata": {},
   "outputs": [
    {
     "name": "stdout",
     "output_type": "stream",
     "text": [
      "Requirement already satisfied: folium in c:\\python\\python3.9\\lib\\site-packages (0.14.0)\n",
      "Requirement already satisfied: jinja2>=2.9 in c:\\python\\python3.9\\lib\\site-packages (from folium) (3.1.2)\n",
      "Requirement already satisfied: branca>=0.6.0 in c:\\python\\python3.9\\lib\\site-packages (from folium) (0.6.0)\n",
      "Requirement already satisfied: numpy in c:\\python\\python3.9\\lib\\site-packages (from folium) (1.23.1)\n",
      "Requirement already satisfied: requests in c:\\python\\python3.9\\lib\\site-packages (from folium) (2.28.1)\n",
      "Requirement already satisfied: MarkupSafe>=2.0 in c:\\python\\python3.9\\lib\\site-packages (from jinja2>=2.9->folium) (2.1.1)\n",
      "Requirement already satisfied: urllib3<1.27,>=1.21.1 in c:\\python\\python3.9\\lib\\site-packages (from requests->folium) (1.26.12)\n",
      "Requirement already satisfied: certifi>=2017.4.17 in c:\\python\\python3.9\\lib\\site-packages (from requests->folium) (2022.6.15.2)\n",
      "Requirement already satisfied: idna<4,>=2.5 in c:\\python\\python3.9\\lib\\site-packages (from requests->folium) (3.4)\n",
      "Requirement already satisfied: charset-normalizer<3,>=2 in c:\\python\\python3.9\\lib\\site-packages (from requests->folium) (2.1.1)\n"
     ]
    },
    {
     "name": "stderr",
     "output_type": "stream",
     "text": [
      "WARNING: Ignoring invalid distribution -atplotlib (c:\\python\\python3.9\\lib\\site-packages)\n",
      "WARNING: Ignoring invalid distribution -atplotlib (c:\\python\\python3.9\\lib\\site-packages)\n",
      "WARNING: Ignoring invalid distribution -atplotlib (c:\\python\\python3.9\\lib\\site-packages)\n",
      "WARNING: Ignoring invalid distribution -atplotlib (c:\\python\\python3.9\\lib\\site-packages)\n",
      "WARNING: Ignoring invalid distribution -atplotlib (c:\\python\\python3.9\\lib\\site-packages)\n",
      "WARNING: Ignoring invalid distribution -atplotlib (c:\\python\\python3.9\\lib\\site-packages)\n"
     ]
    }
   ],
   "source": [
    "!pip install folium --upgrade\n"
   ]
  },
  {
   "cell_type": "code",
   "execution_count": 46,
   "id": "a9d59161",
   "metadata": {},
   "outputs": [],
   "source": [
    "from folium.plugins import HeatMap"
   ]
  },
  {
   "cell_type": "code",
   "execution_count": 47,
   "id": "640d3a2a",
   "metadata": {},
   "outputs": [],
   "source": [
    "sample_df = accidents_df.sample(int(0.1 * len(accidents_df)))\n",
    "lat_long_pairs = list(zip(list(sample_df.Start_Lat),(sample_df.Start_Lng)))"
   ]
  },
  {
   "cell_type": "code",
   "execution_count": 58,
   "id": "ba834b09",
   "metadata": {},
   "outputs": [
    {
     "data": {
      "text/html": [
       "<div style=\"width:100%;\"><div style=\"position:relative;width:100%;height:0;padding-bottom:60%;\"><span style=\"color:#565656\">Make this Notebook Trusted to load map: File -> Trust Notebook</span><iframe srcdoc=\"&lt;!DOCTYPE html&gt;\n",
       "&lt;html&gt;\n",
       "&lt;head&gt;\n",
       "    \n",
       "    &lt;meta http-equiv=&quot;content-type&quot; content=&quot;text/html; charset=UTF-8&quot; /&gt;\n",
       "    \n",
       "        &lt;script&gt;\n",
       "            L_NO_TOUCH = false;\n",
       "            L_DISABLE_3D = false;\n",
       "        &lt;/script&gt;\n",
       "    \n",
       "    &lt;style&gt;html, body {width: 100%;height: 100%;margin: 0;padding: 0;}&lt;/style&gt;\n",
       "    &lt;style&gt;#map {position:absolute;top:0;bottom:0;right:0;left:0;}&lt;/style&gt;\n",
       "    &lt;script src=&quot;https://cdn.jsdelivr.net/npm/leaflet@1.9.3/dist/leaflet.js&quot;&gt;&lt;/script&gt;\n",
       "    &lt;script src=&quot;https://code.jquery.com/jquery-1.12.4.min.js&quot;&gt;&lt;/script&gt;\n",
       "    &lt;script src=&quot;https://cdn.jsdelivr.net/npm/bootstrap@5.2.2/dist/js/bootstrap.bundle.min.js&quot;&gt;&lt;/script&gt;\n",
       "    &lt;script src=&quot;https://cdnjs.cloudflare.com/ajax/libs/Leaflet.awesome-markers/2.0.2/leaflet.awesome-markers.js&quot;&gt;&lt;/script&gt;\n",
       "    &lt;link rel=&quot;stylesheet&quot; href=&quot;https://cdn.jsdelivr.net/npm/leaflet@1.9.3/dist/leaflet.css&quot;/&gt;\n",
       "    &lt;link rel=&quot;stylesheet&quot; href=&quot;https://cdn.jsdelivr.net/npm/bootstrap@5.2.2/dist/css/bootstrap.min.css&quot;/&gt;\n",
       "    &lt;link rel=&quot;stylesheet&quot; href=&quot;https://netdna.bootstrapcdn.com/bootstrap/3.0.0/css/bootstrap.min.css&quot;/&gt;\n",
       "    &lt;link rel=&quot;stylesheet&quot; href=&quot;https://cdn.jsdelivr.net/npm/@fortawesome/fontawesome-free@6.2.0/css/all.min.css&quot;/&gt;\n",
       "    &lt;link rel=&quot;stylesheet&quot; href=&quot;https://cdnjs.cloudflare.com/ajax/libs/Leaflet.awesome-markers/2.0.2/leaflet.awesome-markers.css&quot;/&gt;\n",
       "    &lt;link rel=&quot;stylesheet&quot; href=&quot;https://cdn.jsdelivr.net/gh/python-visualization/folium/folium/templates/leaflet.awesome.rotate.min.css&quot;/&gt;\n",
       "    \n",
       "            &lt;meta name=&quot;viewport&quot; content=&quot;width=device-width,\n",
       "                initial-scale=1.0, maximum-scale=1.0, user-scalable=no&quot; /&gt;\n",
       "            &lt;style&gt;\n",
       "                #map_37958db49b001bcc1876f28f120d42c5 {\n",
       "                    position: relative;\n",
       "                    width: 100.0%;\n",
       "                    height: 100.0%;\n",
       "                    left: 0.0%;\n",
       "                    top: 0.0%;\n",
       "                }\n",
       "                .leaflet-container { font-size: 1rem; }\n",
       "            &lt;/style&gt;\n",
       "        \n",
       "    &lt;script src=&quot;https://cdn.jsdelivr.net/gh/python-visualization/folium@main/folium/templates/leaflet_heat.min.js&quot;&gt;&lt;/script&gt;\n",
       "&lt;/head&gt;\n",
       "&lt;body&gt;\n",
       "    \n",
       "    \n",
       "            &lt;div class=&quot;folium-map&quot; id=&quot;map_37958db49b001bcc1876f28f120d42c5&quot; &gt;&lt;/div&gt;\n",
       "        \n",
       "&lt;/body&gt;\n",
       "&lt;script&gt;\n",
       "    \n",
       "    \n",
       "            var map_37958db49b001bcc1876f28f120d42c5 = L.map(\n",
       "                &quot;map_37958db49b001bcc1876f28f120d42c5&quot;,\n",
       "                {\n",
       "                    center: [0, 0],\n",
       "                    crs: L.CRS.EPSG3857,\n",
       "                    zoom: 1,\n",
       "                    zoomControl: true,\n",
       "                    preferCanvas: false,\n",
       "                }\n",
       "            );\n",
       "\n",
       "            \n",
       "\n",
       "        \n",
       "    \n",
       "            var tile_layer_5695355d557f81fd76fc2befcf09f915 = L.tileLayer(\n",
       "                &quot;https://{s}.tile.openstreetmap.org/{z}/{x}/{y}.png&quot;,\n",
       "                {&quot;attribution&quot;: &quot;Data by \\u0026copy; \\u003ca target=\\&quot;_blank\\&quot; href=\\&quot;http://openstreetmap.org\\&quot;\\u003eOpenStreetMap\\u003c/a\\u003e, under \\u003ca target=\\&quot;_blank\\&quot; href=\\&quot;http://www.openstreetmap.org/copyright\\&quot;\\u003eODbL\\u003c/a\\u003e.&quot;, &quot;detectRetina&quot;: false, &quot;maxNativeZoom&quot;: 18, &quot;maxZoom&quot;: 18, &quot;minZoom&quot;: 0, &quot;noWrap&quot;: false, &quot;opacity&quot;: 1, &quot;subdomains&quot;: &quot;abc&quot;, &quot;tms&quot;: false}\n",
       "            ).addTo(map_37958db49b001bcc1876f28f120d42c5);\n",
       "        \n",
       "    \n",
       "            var heat_map_72e6374779f382bcda36f44796f8e893 = L.heatLayer(\n",
       "                [[35.72656, -81.134601], [37.739837, -121.59028899999998], [40.9358, -74.07262], [40.756383, -73.740537], [37.509814, -121.970296], [34.170677000000005, -117.453884], [37.82855900000001, -121.23192], [47.73707, -122.32667], [36.747819, -78.526164], [33.964690000000004, -118.16889], [44.876972, -93.397039], [34.30045, -118.47672], [37.552525, -77.47882800000002], [39.751578, -84.23998], [44.694976, -91.94871], [44.53891, -94.21391], [33.487192, -80.837701], [39.798745, -86.037031], [33.457003, -117.104449], [32.817377, -96.8681], [29.123504, -82.212294], [34.239059999999995, -118.630721], [44.95066, -92.93411], [41.741942, -87.830897], [37.839413, -122.296961], [33.429712, -112.082508], [39.86471, -75.34794000000002], [34.510121000000005, -119.82331299999998], [34.02652, -118.25019], [42.525657, -89.20879000000002], [35.054594, -81.992393], [32.63326, -96.82336], [25.799719, -80.244019], [42.441799, -83.32043399999998], [39.35381, -76.75845], [32.87376, -96.52398], [40.161648, -74.428349], [37.056839, -113.586421], [40.98735, -73.68024], [34.00614, -81.018342], [35.28022100000001, -82.397686], [35.75989000000001, -78.61349], [35.147705, -85.23838], [25.760875, -80.419195], [33.637121, -80.876852], [32.75833, -117.203797], [37.026519, -121.598259], [41.187513, -112.008831], [33.862998, -111.472742], [36.91988, -120.01682], [39.75354, -105.01485], [41.06537, -73.86457], [38.21703, -122.13718], [41.650918, -72.671996], [34.50048, -118.22806], [42.393012, -87.944201], [34.036935, -118.30021200000002], [38.027678, -121.954746], [38.41887, -122.715785], [35.77976, -78.6434], [45.289331, -93.764432], [26.14215, -80.16971], [34.624139, -85.793566], [35.622817, -78.566864], [34.026015, -117.72344], [34.115351000000004, -118.268555], [40.61708, -111.43528], [33.959986, -118.289029], [44.63046, -121.13062], [34.09667, -117.30202], [30.468596999999995, -91.107021], [40.42708, -79.723373], [46.962771, -114.011306], [39.022774, -76.946196], [25.928351, -80.293413], [25.446129, -80.475024], [39.5938, -84.23864], [38.710054, -121.07868], [40.766187, -73.863344], [39.07272, -77.045587], [34.05516, -118.18743], [33.767113, -117.922741], [42.60512, -71.34458000000002], [28.492772, -81.39675600000002], [41.26017, -111.96962], [40.00085900000001, -111.484553], [38.91626, -94.76766], [42.234009, -93.571254], [29.773625, -95.244821], [34.120858, -117.828915], [34.053044, -118.228279], [40.814731, -74.053203], [38.51469, -121.46238], [34.15439, -118.38286], [34.050203, -117.303675], [40.619306, -74.023537], [25.598677, -80.351502], [25.896816, -80.25555200000002], [47.46543, -92.90397], [37.930759, -122.324534], [40.427093, -79.698588], [30.44098, -91.355234], [25.760875, -80.403655], [33.89181, -84.25904799999998], [34.038213, -118.219614], [27.778596000000004, -82.679477], [28.534463, -81.209347], [46.764454, -92.249379], [29.970903000000003, -90.05116600000002], [40.643899, -122.240369], [40.698584, -73.983317], [33.4157, -111.70177], [35.506621, -84.607547], [38.455532, -77.409089], [34.246589, -117.43681200000002], [25.717963, -80.314132], [32.913131, -96.873301], [33.934714, -117.425696], [38.024717, -121.072764], [44.086269, -121.30113], [30.00701, -95.42734], [33.615192, -83.91776899999998], [25.902391, -80.24653599999998], [43.682332, -117.089007], [41.119021, -112.064527], [37.716169, -97.321806], [39.27958, -82.83485], [41.102331, -73.997865], [32.993970000000004, -96.70951], [38.76925900000001, -121.249545], [28.012159000000004, -82.27759300000002], [39.8204, -104.97849], [39.442236, -76.360817], [42.932894, -85.651042], [34.614593, -117.342481], [47.302981, -122.257176], [33.970725, -118.251991], [37.7506, -122.151478], [45.843312, -123.203148], [33.59186, -86.16575999999998], [40.70685, -74.25463], [30.415143, -91.068754], [28.514824, -81.42061700000002], [28.509574, -81.420612], [30.251654, -81.466408], [38.86599, -77.05095899999998], [30.388801, -97.734412], [41.652359, -72.855141], [37.942368, -121.713404], [40.76782, -73.9498], [38.23583, -85.61639], [36.7601, -119.83149], [30.022655, -82.610722], [33.78771, -118.28116], [38.651907, -123.399433], [37.68949, -122.103998], [35.204643, -80.719185], [27.443612, -82.50536899999999], [37.831094, -121.606942], [29.93736, -95.48361], [35.59465, -97.603346], [36.264508, -86.731791], [42.800404, -84.638172], [26.039775, -80.21391700000002], [40.168793, -75.069574], [25.654291, -80.415635], [35.211221, -80.83713900000002], [32.73611, -97.06259], [40.480548, -120.544896], [42.0885, -88.03294], [36.211141, -119.708544], [25.94346, -80.358019], [38.46790900000001, -122.728346], [40.461527, -74.281019], [44.60485, -86.21937], [34.065341, -117.304367], [32.65592, -96.979365], [33.853823, -117.928813], [28.568284, -81.287503], [40.205115, -79.753412], [36.422196, -121.285881], [25.950257, -80.196313], [42.48554, -83.26131], [36.356305, -119.394727], [42.315533, -88.111298], [32.64276, -96.84011], [33.890806, -118.361313], [41.66561, -72.84664000000002], [39.273071, -76.554186], [34.055983000000005, -118.183147], [45.67355, -93.925], [35.396064, -118.967455], [30.335288, -97.72046], [39.21819, -76.66141], [37.822157, -122.328245], [39.90031, -75.11164000000002], [44.930289, -123.305019], [36.58135, -76.695378], [34.15498, -118.648673], [44.26922, -121.202632], [33.19595, -84.28376], [38.67108, -121.59607], [33.640485, -111.977034], [37.2916, -121.93686], [30.204004, -97.759368], [41.114433, -77.480982], [37.69109, -122.070288], [40.781711, -111.91119], [40.700712, -73.989972], [41.170309, -79.08593], [32.84768, -117.17834], [35.61138, -120.400336], [35.263119, -119.022027], [35.264612, -80.843233], [33.391219, -80.121445], [41.58729, -87.68125], [25.60057, -80.381153], [33.960867, -118.282705], [40.767074, -73.573318], [37.824093, -122.267135], [32.76177, -117.06708], [30.640943, -91.151342], [46.900145, -114.130309], [27.909524, -82.811875], [34.217471999999994, -119.040566], [40.182007, -111.646415], [37.640621, -121.884437], [45.33346, -122.88089], [35.257564, -80.841668], [25.857672, -80.209478], [30.39294000000001, -97.84184], [39.109168, -121.634559], [27.857188, -82.323311], [38.587353, -121.503699], [45.789331, -120.032898], [35.212989, -80.86258199999997], [35.673583, -80.856724], [32.922259999999994, -117.22861], [44.77362, -93.21721], [45.01005, -93.16649], [28.42023, -81.22715], [35.90918900000001, -78.920913], [40.73213, -111.94987], [34.056412, -118.25638899999998], [25.59551, -80.37154], [30.200676, -97.807257], [34.13368, -117.6784], [32.464545, -93.843766], [25.62699, -80.38799200000003], [41.79673, -87.8075], [29.96395, -90.11986], [45.755478, -123.284682], [34.690557, -81.610873], [33.92729, -118.26005], [34.64699, -97.21977], [37.66646400000001, -122.105423], [31.323751, -89.360294], [33.9319, -86.38099], [43.012574, -88.227874], [38.9406, -94.53798], [42.065382, -123.704679], [32.842136, -96.590211], [41.014199, -73.717545], [33.37777, -80.52051999999998], [30.407893, -97.678227], [33.70185, -117.85854], [44.911884, -93.144203], [33.597468, -112.00938], [33.88078400000001, -117.549914], [38.77561, -90.33515], [38.882212, -77.028604], [44.74904, -93.58676], [34.124153, -80.852738], [32.72403, -117.15088], [39.028881, -77.398544], [29.71162, -95.153512], [40.842701, -73.890328], [41.68066, -72.65335999999998], [28.026881, -82.194326], [28.42548, -82.60069200000002], [38.77235, -90.3034], [25.988159, -80.16574200000002], [38.772011, -121.245457], [25.44798, -80.4736], [45.5247, -122.68666], [35.765785, -78.729608], [25.878809, -80.356696], [38.575495, -121.378253], [37.739326, -121.590858], [34.05801, -118.24418], [33.494927000000004, -112.152262], [33.497074, -117.14847], [40.55508, -74.21212], [41.278799, -73.049308], [39.19719600000001, -94.509778], [32.705824, -96.789437], [33.891385, -117.820078], [40.68578, -73.80726], [35.773927, -120.709703], [39.876179, -86.047474], [47.61958, -122.32865], [45.499094, -122.516409], [34.118754, -117.841132], [33.87063, -118.340463], [33.56637, -113.3338], [36.265322, -86.711148], [27.868546, -82.759927], [38.828011, -77.815936], [30.183944, -82.64027800000002], [41.230391, -74.177938], [41.032418, -73.819379], [41.103512, -73.43134], [28.000608000000003, -82.308752], [34.11943, -117.770293], [38.27626, -122.0474], [25.898692, -80.324176], [27.748467, -82.64549], [36.93611, -81.16833299999998], [33.925757, -118.368526], [33.93757, -84.35795], [27.89778, -82.34619], [34.130862, -117.201064], [44.09802, -94.27634], [34.954325, -81.343244], [38.74419, -90.40911], [33.745672, -117.842504], [25.948502, -80.148765], [34.085, -118.60007], [38.007851, -122.084993], [30.583632, -97.868356], [32.836683, -97.362828], [30.042466, -89.968882], [42.74608, -71.21238000000002], [33.781007, -117.211643], [30.00701, -95.42734], [36.06092, -95.893667], [25.971844, -80.249155], [26.72537, -81.90651], [34.62397, -79.04892], [32.335567, -90.24545], [28.261975, -80.68824599999998], [34.054356, -118.004333], [34.072990000000004, -81.122677], [40.197859, -122.206836], [40.151783, -122.150487], [46.845383, -92.474295], [32.235409999999995, -110.80686], [39.36247, -121.221552], [41.296058, -110.685499], [34.149227, -118.469669], [38.554797, -121.512542], [35.194099, -85.165611], [33.967139, -118.229624], [27.949597, -82.347342], [35.294105, -81.846375], [30.30136, -97.71568], [36.84602, -76.179428], [40.963463, -124.09964], [41.88246, -87.91957], [33.742536, -117.437822], [40.992404, -111.911405], [40.849197, -77.694843], [41.234637, -79.59366899999998], [40.762176, -73.966124], [33.804318, -118.220701], [40.73084, -74.34942], [29.732137, -95.389325], [30.447937, -81.61301], [44.89349, -93.34996], [28.449887, -81.490326], [37.17705, -93.22437], [30.320751, -81.715694], [33.592, -117.75952], [32.83185, -96.63149], [38.833446, -77.012774], [33.891715000000005, -117.646811], [37.361299, -118.422827], [37.743485, -121.127864], [38.93941, -94.60008], [36.141299, -86.731852], [34.653278, -78.84937], [45.44623, -117.35248], [42.308155, -87.857794], [40.00636, -75.78985], [34.067640000000004, -117.60049], [27.737964, -80.54849300000002], [27.447751, -82.573305], [38.871806, -76.982134], [40.240405, -75.42875500000002], [33.94976, -118.09183], [45.14096, -122.89073], [40.938438, -73.806442], [33.87704, -118.14268], [44.86394, -123.00782], [41.571289, -87.438874], [45.053947, -107.337158], [42.56795, -88.068351], [42.389139, -73.492364], [47.569673, -111.25585900000002], [28.377969, -81.503987], [25.598228, -80.384979], [27.431807, -82.396367], [45.822848, -108.360203], [37.43066, -121.918283], [25.928281, -80.197005], [28.450282, -81.45139], [40.724467, -111.535098], [33.730806, -117.39884], [33.954726, -117.305097], [30.399578, -87.31118199999996], [46.794451, -118.651238], [38.56169600000001, -121.38135], [35.17208, -80.85108000000002], [44.912353, -93.350666], [25.576963, -80.384361], [45.531345, -122.569939], [34.49499, -81.84206999999998], [34.263684999999995, -119.076679], [37.616683, -77.444204], [30.429241, -97.681531], [34.03841, -118.273963], [41.29522, -72.76683], [34.189845, -79.801348], [30.51894, -87.31315], [40.853212, -73.87177700000002], [45.37067, -122.749418], [42.92165, -85.81181], [34.334696, -119.086071], [30.594393, -87.039298], [34.273912, -119.13528], [40.08073, -82.89175], [40.70554, -111.88827], [26.669867, -81.936941], [25.598634, -80.352987], [38.5783, -121.50717], [32.92393, -96.77563], [47.051892, -122.294847], [34.156127000000005, -79.304878], [40.73808, -74.21733], [42.476000000000006, -83.120962], [33.89838, -118.37026000000002], [36.695631, -81.99762], [41.441642, -76.45423199999998], [32.250233, -110.944029], [34.016579, -117.740746], [35.659238, -109.117369], [37.60291, -77.51515], [30.5702, -87.295009], [35.76209, -78.82174], [37.976745, -122.296098], [33.963645, -118.36987], [34.068979, -117.396007], [33.596740000000004, -117.246093], [36.13672, -83.27920999999998], [44.381851, -117.306767], [35.77571, -83.09819], [30.44365800000001, -87.250364], [36.12384, -86.74825], [45.52519, -122.66533], [29.777173, -95.406229], [40.759137, -74.08258000000002], [41.301364, -72.387839], [32.359698, -95.310271], [40.634121, -111.711953], [35.033345000000004, -80.812097], [30.296269, -91.91146], [35.38568, -118.98818], [36.035424, -78.96877099999998], [37.53551, -77.42517], [26.71465, -81.669251], [25.890169, -80.188806], [38.933035, -94.635782], [32.798656, -117.24051], [34.293819, -118.470198], [25.785313, -80.215021], [39.082938, -123.472747], [25.928324, -80.19283100000001], [38.89209, -77.04347], [34.055665999999995, -118.451885], [41.03888900000001, -73.81516500000002], [44.97038, -93.347268], [40.74667, -73.969155], [33.87989, -117.60745], [45.06892, -93.29695], [33.773838, -117.905745], [34.487594, -118.1399], [43.038188, -77.623774], [27.447751, -82.573305], [40.711865, -96.559131], [37.413014, -77.567493], [40.646935, -74.580377], [45.79328, -119.38027], [35.763952, -78.71408000000002], [25.760904, -80.45701899999997], [40.200945, -75.34597600000002], [34.18444, -118.907723], [27.894261, -82.806175], [35.659739, -78.868086], [44.969992, -93.312005], [32.100371, -106.625629]],\n",
       "                {&quot;blur&quot;: 15, &quot;maxZoom&quot;: 18, &quot;minOpacity&quot;: 0.5, &quot;radius&quot;: 25}\n",
       "            ).addTo(map_37958db49b001bcc1876f28f120d42c5);\n",
       "        \n",
       "&lt;/script&gt;\n",
       "&lt;/html&gt;\" style=\"position:absolute;width:100%;height:100%;left:0;top:0;border:none !important;\" allowfullscreen webkitallowfullscreen mozallowfullscreen></iframe></div></div>"
      ],
      "text/plain": [
       "<folium.folium.Map at 0x22370f99790>"
      ]
     },
     "execution_count": 58,
     "metadata": {},
     "output_type": "execute_result"
    }
   ],
   "source": [
    "map = folium.Map()\n",
    "HeatMap(lat_long_pairs[:500]).add_to(map)\n",
    "map\n"
   ]
  },
  {
   "cell_type": "code",
   "execution_count": 50,
   "id": "d9e6ac66",
   "metadata": {},
   "outputs": [
    {
     "data": {
      "text/plain": [
       "CA    795868\n",
       "FL    401388\n",
       "TX    149037\n",
       "OR    126341\n",
       "VA    113535\n",
       "NY    108049\n",
       "PA     99975\n",
       "MN     97185\n",
       "NC     91362\n",
       "SC     89216\n",
       "MD     65085\n",
       "AZ     56504\n",
       "NJ     52902\n",
       "TN     52613\n",
       "UT     49193\n",
       "LA     47232\n",
       "IL     47105\n",
       "MI     43843\n",
       "GA     40086\n",
       "WA     32554\n",
       "CT     29762\n",
       "MO     29633\n",
       "CO     25340\n",
       "OH     24409\n",
       "IN     20850\n",
       "AL     19322\n",
       "MT     15964\n",
       "AR     10935\n",
       "IA      9607\n",
       "DC      9133\n",
       "KS      9033\n",
       "OK      8806\n",
       "ID      8544\n",
       "WI      7896\n",
       "WV      7632\n",
       "KY      6638\n",
       "MA      6392\n",
       "NV      6197\n",
       "MS      5320\n",
       "DE      4842\n",
       "RI      4451\n",
       "NH      3866\n",
       "NE      3320\n",
       "NM      2370\n",
       "ND      2258\n",
       "ME      2193\n",
       "WY       990\n",
       "VT       365\n",
       "SD       201\n",
       "Name: State, dtype: int64"
      ]
     },
     "execution_count": 50,
     "metadata": {},
     "output_type": "execute_result"
    }
   ],
   "source": [
    "top_5_accidents = accidents_df['State'].value_counts()\n",
    "top_5_accidents"
   ]
  },
  {
   "cell_type": "code",
   "execution_count": 51,
   "id": "9d1c2dcf",
   "metadata": {},
   "outputs": [
    {
     "data": {
      "text/plain": [
       "2845342"
      ]
     },
     "execution_count": 51,
     "metadata": {},
     "output_type": "execute_result"
    }
   ],
   "source": [
    "(accidents_df['City'] == 'New York').count()\n"
   ]
  },
  {
   "cell_type": "code",
   "execution_count": 52,
   "id": "32cdaa62",
   "metadata": {},
   "outputs": [],
   "source": [
    "sample_df = accidents_df.sample(int(0.1 * len(accidents_df)))\n"
   ]
  },
  {
   "cell_type": "code",
   "execution_count": 57,
   "id": "f9707cab",
   "metadata": {},
   "outputs": [
    {
     "name": "stdout",
     "output_type": "stream",
     "text": [
      "Top 5 states by number of accidents:\n",
      "CA    795868\n",
      "FL    401388\n",
      "TX    149037\n",
      "OR    126341\n",
      "VA    113535\n",
      "Name: State, dtype: int64\n",
      "\n",
      "Top 5 states by per capita accidents:\n",
      "State\n",
      "FL    5.444657e+09\n",
      "CA    3.115384e+09\n",
      "TX    1.328077e+09\n",
      "NC    5.799015e+08\n",
      "MN    2.997310e+08\n",
      "Name: Per Capita, dtype: float64\n"
     ]
    }
   ],
   "source": [
    "\n",
    "\n",
    "# count the number of accidents by state\n",
    "state_counts = accidents_df['State'].value_counts()\n",
    "\n",
    "\n",
    "# get the top 5 states with the highest number of accidents\n",
    "top_5_states_by_accidents = state_counts.head(5)\n",
    "print(\"Top 5 states by number of accidents:\")\n",
    "print(top_5_states_by_accidents)\n",
    "\n",
    "# count the number of accidents by city\n",
    "city_counts = accidents_df['City'].value_counts()\n",
    "\n",
    "# calculate per capita accidents by city\n",
    "city_counts = city_counts / city_counts.sum() * 1000000\n",
    "\n",
    "# add the per capita count to the original dataframe\n",
    "accidents_df['Per Capita'] = accidents_df['City'].map(city_counts)\n",
    "\n",
    "# group the data by state and sum the per capita count\n",
    "per_capita_counts = accidents_df.groupby('State')['Per Capita'].sum()\n",
    "\n",
    "# get the top 5 states with the highest per capita accidents\n",
    "top_5_states_by_per_capita = per_capita_counts.sort_values(ascending=False).head(5)\n",
    "print(\"\\nTop 5 states by per capita accidents:\")\n",
    "print(top_5_states_by_per_capita)\n"
   ]
  },
  {
   "cell_type": "code",
   "execution_count": 54,
   "id": "c2bbcb19",
   "metadata": {},
   "outputs": [
    {
     "data": {
      "text/plain": [
       "<AxesSubplot: ylabel='State'>"
      ]
     },
     "execution_count": 54,
     "metadata": {},
     "output_type": "execute_result"
    },
    {
     "data": {
      "image/png": "[encoded data removed]",
      "text/plain": [
       "<Figure size 432x288 with 1 Axes>"
      ]
     },
     "metadata": {},
     "output_type": "display_data"
    }
   ],
   "source": [
    "top_5_states_by_per_capita.plot(kind='barh')\n"
   ]
  },
  {
   "cell_type": "code",
   "execution_count": null,
   "id": "940182da",
   "metadata": {},
   "outputs": [],
   "source": []
  },
  {
   "cell_type": "code",
   "execution_count": null,
   "id": "5ea56fa8",
   "metadata": {},
   "outputs": [],
   "source": []
  }
 ],
 "metadata": {
  "kernelspec": {
   "display_name": "Python 3 (ipykernel)",
   "language": "python",
   "name": "python3"
  },
  "language_info": {
   "codemirror_mode": {
    "name": "ipython",
    "version": 3
   },
   "file_extension": ".py",
   "mimetype": "text/x-python",
   "name": "python",
   "nbconvert_exporter": "python",
   "pygments_lexer": "ipython3",
   "version": "3.9.13"
  }
 },
 "nbformat": 4,
 "nbformat_minor": 5
}
